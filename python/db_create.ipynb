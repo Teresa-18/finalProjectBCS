{
 "metadata": {
  "language_info": {
   "codemirror_mode": {
    "name": "ipython",
    "version": 3
   },
   "file_extension": ".py",
   "mimetype": "text/x-python",
   "name": "python",
   "nbconvert_exporter": "python",
   "pygments_lexer": "ipython3",
   "version": "3.8.3"
  },
  "orig_nbformat": 2,
  "kernelspec": {
   "name": "python383jvsc74a57bd044f87d93d22815aca40ff46df2a68f0681cdcfc4aee774b27fdbe7d7cab95300",
   "display_name": "Python 3.8.3 64-bit ('base': conda)"
  }
 },
 "nbformat": 4,
 "nbformat_minor": 2,
 "cells": [
  {
   "cell_type": "code",
   "execution_count": 1,
   "metadata": {},
   "outputs": [],
   "source": [
    "import pandas as pd\n",
    "import pymongo\n",
    "import psycopg2\n",
    "from sqlalchemy import create_engine\n",
    "from sqlalchemy import text\n",
    "import matplotlib\n",
    "import matplotlib.pyplot as plt\n",
    "import seaborn as sns\n",
    "import numpy as np"
   ]
  },
  {
   "cell_type": "code",
   "execution_count": 2,
   "metadata": {},
   "outputs": [],
   "source": [
    "# # create a connection to Postgres\n",
    "# conn = psycopg2.connect(database=\"postgres\", user='postgres', password='Shjais2014', host='127.0.0.1', port='5432')\n",
    "# conn.autocommit = True\n",
    "# cursor = conn.cursor()\n",
    "\n",
    "# # create the database in Postgres\n",
    "# create_database_sql = open('../sql/create_db.sql','r')\n",
    "# cursor.execute(create_database_sql.read())\n",
    "\n",
    "# #If no error print message\n",
    "# print(\"Database created successfully........\")\n",
    "\n",
    "# #Closing the connection and database\n",
    "# conn.close()\n",
    "# create_database_sql.close()"
   ]
  },
  {
   "cell_type": "code",
   "execution_count": 3,
   "metadata": {},
   "outputs": [
    {
     "output_type": "execute_result",
     "data": {
      "text/plain": [
       "   Unnamed: 0                                             Tweets\n",
       "0           0  Tough loss today to a very tough Friends Acade...\n",
       "1           1  RT @misanharriman: NEW IMAGES OF RICHARD OKORO...\n",
       "2           2  RT @JamaicaObserver: A St Catherine man is in ...\n",
       "3           3  RT @arvinjoaquin: A 65-year-old Filipino woman...\n",
       "4           4  RT @misanharriman: NEW IMAGES OF RICHARD OKORO..."
      ],
      "text/html": "<div>\n<style scoped>\n    .dataframe tbody tr th:only-of-type {\n        vertical-align: middle;\n    }\n\n    .dataframe tbody tr th {\n        vertical-align: top;\n    }\n\n    .dataframe thead th {\n        text-align: right;\n    }\n</style>\n<table border=\"1\" class=\"dataframe\">\n  <thead>\n    <tr style=\"text-align: right;\">\n      <th></th>\n      <th>Unnamed: 0</th>\n      <th>Tweets</th>\n    </tr>\n  </thead>\n  <tbody>\n    <tr>\n      <th>0</th>\n      <td>0</td>\n      <td>Tough loss today to a very tough Friends Acade...</td>\n    </tr>\n    <tr>\n      <th>1</th>\n      <td>1</td>\n      <td>RT @misanharriman: NEW IMAGES OF RICHARD OKORO...</td>\n    </tr>\n    <tr>\n      <th>2</th>\n      <td>2</td>\n      <td>RT @JamaicaObserver: A St Catherine man is in ...</td>\n    </tr>\n    <tr>\n      <th>3</th>\n      <td>3</td>\n      <td>RT @arvinjoaquin: A 65-year-old Filipino woman...</td>\n    </tr>\n    <tr>\n      <th>4</th>\n      <td>4</td>\n      <td>RT @misanharriman: NEW IMAGES OF RICHARD OKORO...</td>\n    </tr>\n  </tbody>\n</table>\n</div>"
     },
     "metadata": {},
     "execution_count": 3
    }
   ],
   "source": [
    "# read in csv file from output_data folder\n",
    "csv_file = \"../output_data/tweets.csv\"\n",
    "twitter_df = pd.read_csv(csv_file)\n",
    "twitter_df.head()"
   ]
  },
  {
   "cell_type": "code",
   "execution_count": 4,
   "metadata": {},
   "outputs": [
    {
     "output_type": "execute_result",
     "data": {
      "text/plain": [
       "   Unnamed: 0                                             tweets\n",
       "0           0  Tough loss today to a very tough Friends Acade...\n",
       "1           1  RT @misanharriman: NEW IMAGES OF RICHARD OKORO...\n",
       "2           2  RT @JamaicaObserver: A St Catherine man is in ...\n",
       "3           3  RT @arvinjoaquin: A 65-year-old Filipino woman...\n",
       "4           4  RT @misanharriman: NEW IMAGES OF RICHARD OKORO..."
      ],
      "text/html": "<div>\n<style scoped>\n    .dataframe tbody tr th:only-of-type {\n        vertical-align: middle;\n    }\n\n    .dataframe tbody tr th {\n        vertical-align: top;\n    }\n\n    .dataframe thead th {\n        text-align: right;\n    }\n</style>\n<table border=\"1\" class=\"dataframe\">\n  <thead>\n    <tr style=\"text-align: right;\">\n      <th></th>\n      <th>Unnamed: 0</th>\n      <th>tweets</th>\n    </tr>\n  </thead>\n  <tbody>\n    <tr>\n      <th>0</th>\n      <td>0</td>\n      <td>Tough loss today to a very tough Friends Acade...</td>\n    </tr>\n    <tr>\n      <th>1</th>\n      <td>1</td>\n      <td>RT @misanharriman: NEW IMAGES OF RICHARD OKORO...</td>\n    </tr>\n    <tr>\n      <th>2</th>\n      <td>2</td>\n      <td>RT @JamaicaObserver: A St Catherine man is in ...</td>\n    </tr>\n    <tr>\n      <th>3</th>\n      <td>3</td>\n      <td>RT @arvinjoaquin: A 65-year-old Filipino woman...</td>\n    </tr>\n    <tr>\n      <th>4</th>\n      <td>4</td>\n      <td>RT @misanharriman: NEW IMAGES OF RICHARD OKORO...</td>\n    </tr>\n  </tbody>\n</table>\n</div>"
     },
     "metadata": {},
     "execution_count": 4
    }
   ],
   "source": [
    "# rename column from Uppercase to Lowercase\n",
    "twitter_df.rename(columns = {'Tweets':'tweets'}, inplace = True) \n",
    "twitter_df.head()"
   ]
  },
  {
   "cell_type": "code",
   "execution_count": 5,
   "metadata": {},
   "outputs": [
    {
     "output_type": "execute_result",
     "data": {
      "text/plain": [
       "                                              tweets\n",
       "0  Tough loss today to a very tough Friends Acade...\n",
       "1  RT @misanharriman: NEW IMAGES OF RICHARD OKORO...\n",
       "2  RT @JamaicaObserver: A St Catherine man is in ...\n",
       "3  RT @arvinjoaquin: A 65-year-old Filipino woman...\n",
       "4  RT @misanharriman: NEW IMAGES OF RICHARD OKORO..."
      ],
      "text/html": "<div>\n<style scoped>\n    .dataframe tbody tr th:only-of-type {\n        vertical-align: middle;\n    }\n\n    .dataframe tbody tr th {\n        vertical-align: top;\n    }\n\n    .dataframe thead th {\n        text-align: right;\n    }\n</style>\n<table border=\"1\" class=\"dataframe\">\n  <thead>\n    <tr style=\"text-align: right;\">\n      <th></th>\n      <th>tweets</th>\n    </tr>\n  </thead>\n  <tbody>\n    <tr>\n      <th>0</th>\n      <td>Tough loss today to a very tough Friends Acade...</td>\n    </tr>\n    <tr>\n      <th>1</th>\n      <td>RT @misanharriman: NEW IMAGES OF RICHARD OKORO...</td>\n    </tr>\n    <tr>\n      <th>2</th>\n      <td>RT @JamaicaObserver: A St Catherine man is in ...</td>\n    </tr>\n    <tr>\n      <th>3</th>\n      <td>RT @arvinjoaquin: A 65-year-old Filipino woman...</td>\n    </tr>\n    <tr>\n      <th>4</th>\n      <td>RT @misanharriman: NEW IMAGES OF RICHARD OKORO...</td>\n    </tr>\n  </tbody>\n</table>\n</div>"
     },
     "metadata": {},
     "execution_count": 5
    }
   ],
   "source": [
    "# drop the Unnamed column in the df\n",
    "twitter_df = twitter_df.drop(columns=['Unnamed: 0'])\n",
    "twitter_df.head()"
   ]
  },
  {
   "cell_type": "code",
   "execution_count": 6,
   "metadata": {},
   "outputs": [
    {
     "output_type": "execute_result",
     "data": {
      "text/plain": [
       "Empty DataFrame\n",
       "Columns: []\n",
       "Index: [Tough loss today to a very tough Friends Academy team. Need to bounce back Monday at Malverne! ⚽️🐸, RT @misanharriman: NEW IMAGES OF RICHARD OKOROGHEYE. In the last confirmed sighting on Monday, 22 March, Richard was seen boarding the 23 b…, RT @JamaicaObserver: A St Catherine man is in custody after trying to set a woman on fire after attacking her on Monday.\n",
       "https://t.co/NqpEU…, RT @arvinjoaquin: A 65-year-old Filipino woman beaten to the ground on her way to church. This incident happened in New York, Monday mornin…, RT @misanharriman: NEW IMAGES OF RICHARD OKOROGHEYE. In the last confirmed sighting on Monday, 22 March, Richard was seen boarding the 23 b…]"
      ],
      "text/html": "<div>\n<style scoped>\n    .dataframe tbody tr th:only-of-type {\n        vertical-align: middle;\n    }\n\n    .dataframe tbody tr th {\n        vertical-align: top;\n    }\n\n    .dataframe thead th {\n        text-align: right;\n    }\n</style>\n<table border=\"1\" class=\"dataframe\">\n  <thead>\n    <tr style=\"text-align: right;\">\n      <th></th>\n    </tr>\n    <tr>\n      <th>tweets</th>\n    </tr>\n  </thead>\n  <tbody>\n    <tr>\n      <th>Tough loss today to a very tough Friends Academy team. Need to bounce back Monday at Malverne! ⚽️🐸</th>\n    </tr>\n    <tr>\n      <th>RT @misanharriman: NEW IMAGES OF RICHARD OKOROGHEYE. In the last confirmed sighting on Monday, 22 March, Richard was seen boarding the 23 b…</th>\n    </tr>\n    <tr>\n      <th>RT @JamaicaObserver: A St Catherine man is in custody after trying to set a woman on fire after attacking her on Monday.\\nhttps://t.co/NqpEU…</th>\n    </tr>\n    <tr>\n      <th>RT @arvinjoaquin: A 65-year-old Filipino woman beaten to the ground on her way to church. This incident happened in New York, Monday mornin…</th>\n    </tr>\n    <tr>\n      <th>RT @misanharriman: NEW IMAGES OF RICHARD OKOROGHEYE. In the last confirmed sighting on Monday, 22 March, Richard was seen boarding the 23 b…</th>\n    </tr>\n  </tbody>\n</table>\n</div>"
     },
     "metadata": {},
     "execution_count": 6
    }
   ],
   "source": [
    "# set the index to the 'tweets' column in the df\n",
    "twitter_df = twitter_df.set_index('tweets')\n",
    "twitter_df.head()"
   ]
  },
  {
   "cell_type": "code",
   "execution_count": 7,
   "metadata": {},
   "outputs": [],
   "source": [
    "# create a connection to Postgres\n",
    "conn = psycopg2.connect(database=\"twitter_db\", user='postgres', password='Shjais2014', host='127.0.0.1', port='5432')\n",
    "conn.autocommit = True\n",
    "cursor = conn.cursor()"
   ]
  },
  {
   "cell_type": "code",
   "execution_count": 8,
   "metadata": {},
   "outputs": [
    {
     "output_type": "stream",
     "name": "stdout",
     "text": [
      "Database Schema Loaded Successfully (Tables Created)........\n"
     ]
    }
   ],
   "source": [
    "# run the schema for the database using the schema file created and the connection to Postgres\n",
    "schema_sql = open('../sql/schema.sql','r')\n",
    "cursor.execute(schema_sql.read())\n",
    "\n",
    "#If no error print message\n",
    "print(\"Database Schema Loaded Successfully (Tables Created)........\")\n",
    "\n",
    "# close the schema file\n",
    "schema_sql.close()"
   ]
  },
  {
   "cell_type": "code",
   "execution_count": 9,
   "metadata": {},
   "outputs": [],
   "source": [
    "# create the database connection\n",
    "connection_string =\"postgres:Shjais2014@localhost:5432/twitter_db\"\n",
    "engine = create_engine(f'postgresql://{connection_string}')"
   ]
  },
  {
   "cell_type": "code",
   "execution_count": 10,
   "metadata": {},
   "outputs": [
    {
     "output_type": "execute_result",
     "data": {
      "text/plain": [
       "['twitter_tweets']"
      ]
     },
     "metadata": {},
     "execution_count": 10
    }
   ],
   "source": [
    "# confirm tables\n",
    "engine.table_names()"
   ]
  },
  {
   "cell_type": "code",
   "execution_count": 11,
   "metadata": {},
   "outputs": [],
   "source": [
    "# Load DataFrame into the database\n",
    "twitter_df.to_sql(name='twitter_tweets', con=engine, if_exists='append', index = True)"
   ]
  },
  {
   "cell_type": "code",
   "execution_count": 12,
   "metadata": {},
   "outputs": [],
   "source": [
    "# confirm the Select from table in the DataBase\n",
    "select_sql = open('../sql/select_df.sql','r')\n",
    "twit_df = pd.read_sql_query(select_sql.read(), con=engine)\n",
    "\n",
    "#Close File after use\n",
    "select_sql.close()"
   ]
  },
  {
   "cell_type": "code",
   "execution_count": 13,
   "metadata": {},
   "outputs": [
    {
     "output_type": "execute_result",
     "data": {
      "text/plain": [
       "                                                tweets\n",
       "0    Tough loss today to a very tough Friends Acade...\n",
       "1    RT @misanharriman: NEW IMAGES OF RICHARD OKORO...\n",
       "2    RT @JamaicaObserver: A St Catherine man is in ...\n",
       "3    RT @arvinjoaquin: A 65-year-old Filipino woman...\n",
       "4    RT @misanharriman: NEW IMAGES OF RICHARD OKORO...\n",
       "..                                                 ...\n",
       "195  RT @misanharriman: NEW IMAGES OF RICHARD OKORO...\n",
       "196  RT @CPRNews: Family and friends gathered today...\n",
       "197  RT @Kwesiblack__: Good Morning guys\\nIs Monday...\n",
       "198  RT @Myanmar_Now_Eng: Three people were killed ...\n",
       "199  RT @BragonOfBojima: 4K FOLLOWERS... THANK YOU\\...\n",
       "\n",
       "[200 rows x 1 columns]"
      ],
      "text/html": "<div>\n<style scoped>\n    .dataframe tbody tr th:only-of-type {\n        vertical-align: middle;\n    }\n\n    .dataframe tbody tr th {\n        vertical-align: top;\n    }\n\n    .dataframe thead th {\n        text-align: right;\n    }\n</style>\n<table border=\"1\" class=\"dataframe\">\n  <thead>\n    <tr style=\"text-align: right;\">\n      <th></th>\n      <th>tweets</th>\n    </tr>\n  </thead>\n  <tbody>\n    <tr>\n      <th>0</th>\n      <td>Tough loss today to a very tough Friends Acade...</td>\n    </tr>\n    <tr>\n      <th>1</th>\n      <td>RT @misanharriman: NEW IMAGES OF RICHARD OKORO...</td>\n    </tr>\n    <tr>\n      <th>2</th>\n      <td>RT @JamaicaObserver: A St Catherine man is in ...</td>\n    </tr>\n    <tr>\n      <th>3</th>\n      <td>RT @arvinjoaquin: A 65-year-old Filipino woman...</td>\n    </tr>\n    <tr>\n      <th>4</th>\n      <td>RT @misanharriman: NEW IMAGES OF RICHARD OKORO...</td>\n    </tr>\n    <tr>\n      <th>...</th>\n      <td>...</td>\n    </tr>\n    <tr>\n      <th>195</th>\n      <td>RT @misanharriman: NEW IMAGES OF RICHARD OKORO...</td>\n    </tr>\n    <tr>\n      <th>196</th>\n      <td>RT @CPRNews: Family and friends gathered today...</td>\n    </tr>\n    <tr>\n      <th>197</th>\n      <td>RT @Kwesiblack__: Good Morning guys\\nIs Monday...</td>\n    </tr>\n    <tr>\n      <th>198</th>\n      <td>RT @Myanmar_Now_Eng: Three people were killed ...</td>\n    </tr>\n    <tr>\n      <th>199</th>\n      <td>RT @BragonOfBojima: 4K FOLLOWERS... THANK YOU\\...</td>\n    </tr>\n  </tbody>\n</table>\n<p>200 rows × 1 columns</p>\n</div>"
     },
     "metadata": {},
     "execution_count": 13
    }
   ],
   "source": [
    "# calling in the table data\n",
    "twit_df"
   ]
  },
  {
   "cell_type": "code",
   "execution_count": 14,
   "metadata": {},
   "outputs": [],
   "source": [
    "#closing the connection to Postgres\n",
    "conn.close()"
   ]
  },
  {
   "cell_type": "code",
   "execution_count": null,
   "metadata": {},
   "outputs": [],
   "source": []
  }
 ]
}