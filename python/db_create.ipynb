{
 "metadata": {
  "language_info": {
   "codemirror_mode": {
    "name": "ipython",
    "version": 3
   },
   "file_extension": ".py",
   "mimetype": "text/x-python",
   "name": "python",
   "nbconvert_exporter": "python",
   "pygments_lexer": "ipython3",
   "version": 3
  },
  "orig_nbformat": 2
 },
 "nbformat": 4,
 "nbformat_minor": 2,
 "cells": [
  {
   "cell_type": "code",
   "execution_count": null,
   "metadata": {},
   "outputs": [],
   "source": [
    "import pandas as pd\n",
    "import pymongo\n",
    "import psycopg2\n",
    "from sqlalchemy import create_engine\n",
    "from sqlalchemy import text\n",
    "import matplotlib\n",
    "import matplotlib.pyplot as plt\n",
    "import seaborn as sns\n",
    "import numpy as np"
   ]
  },
  {
   "cell_type": "code",
   "execution_count": null,
   "metadata": {},
   "outputs": [],
   "source": [
    "# create a connection to Postgres\n",
    "conn = psycopg2.connect(database=\"postgres\", user='postgres', password='Shjais2014', host='127.0.0.1', port='5432')\n",
    "conn.autocommit = True\n",
    "cursor = conn.cursor()\n",
    "\n",
    "# create the database in Postgres\n",
    "create_database_sql = open('sql/create_db.sql','r')\n",
    "cursor.execute(create_database_sql.read())\n",
    "\n",
    "#If no error print message\n",
    "print(\"Database created successfully........\")\n",
    "\n",
    "#Closing the connection and database\n",
    "conn.close()\n",
    "create_database_sql.close()"
   ]
  },
  {
   "cell_type": "code",
   "execution_count": null,
   "metadata": {},
   "outputs": [],
   "source": [
    "csv_file = \"./output_data/tweets.csv\"\n",
    "twitter_df = pd.read_csv(csv_file)\n",
    "twitter_df.head()"
   ]
  },
  {
   "cell_type": "code",
   "execution_count": null,
   "metadata": {},
   "outputs": [],
   "source": [
    "twitter_df.rename(columns = {'Tweets':'tweets'}, inplace = True) \n",
    "twitter_df.head()"
   ]
  },
  {
   "cell_type": "code",
   "execution_count": null,
   "metadata": {},
   "outputs": [],
   "source": [
    "# twitter_df = twitter_df.set_index(\"state\")\n",
    "# twitter_df.head()"
   ]
  },
  {
   "cell_type": "code",
   "execution_count": null,
   "metadata": {},
   "outputs": [],
   "source": [
    "# create a connection to Postgres\n",
    "conn = psycopg2.connect(database=\"Twitter_DB\", user='postgres', password='Shjais2014', host='127.0.0.1', port='5432')\n",
    "conn.autocommit = True\n",
    "cursor = conn.cursor()"
   ]
  },
  {
   "cell_type": "code",
   "execution_count": null,
   "metadata": {},
   "outputs": [],
   "source": [
    "# run the schema for the database using the schema file created and the connection to Postgres\n",
    "schema_sql = open('./sql/schema.sql','r')\n",
    "cursor.execute(schema_sql.read())\n",
    "\n",
    "#If no error print message\n",
    "print(\"Database Schema Loaded Successfully (Tables Created)........\")\n",
    "\n",
    "# close the schema file\n",
    "schema_sql.close()"
   ]
  },
  {
   "cell_type": "code",
   "execution_count": null,
   "metadata": {},
   "outputs": [],
   "source": [
    "#database connection\n",
    "connection_string =\"postgres:Shjais2014@localhost:5432/Twitter_DB\"\n",
    "engine = create_engine(f'postgresql://{connection_string}')"
   ]
  },
  {
   "cell_type": "code",
   "execution_count": null,
   "metadata": {},
   "outputs": [],
   "source": [
    "#confirm tables\n",
    "engine.table_names()"
   ]
  }
 ]
}