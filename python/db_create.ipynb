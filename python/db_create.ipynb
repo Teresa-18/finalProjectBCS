{
 "metadata": {
  "language_info": {
   "codemirror_mode": {
    "name": "ipython",
    "version": 3
   },
   "file_extension": ".py",
   "mimetype": "text/x-python",
   "name": "python",
   "nbconvert_exporter": "python",
   "pygments_lexer": "ipython3",
   "version": "3.8.3"
  },
  "orig_nbformat": 2,
  "kernelspec": {
   "name": "python383jvsc74a57bd044f87d93d22815aca40ff46df2a68f0681cdcfc4aee774b27fdbe7d7cab95300",
   "display_name": "Python 3.8.3 64-bit ('base': conda)"
  }
 },
 "nbformat": 4,
 "nbformat_minor": 2,
 "cells": [
  {
   "cell_type": "code",
   "execution_count": 1,
   "metadata": {},
   "outputs": [],
   "source": [
    "import pandas as pd\n",
    "import pymongo\n",
    "import psycopg2\n",
    "from sqlalchemy import create_engine\n",
    "from sqlalchemy import text\n",
    "import matplotlib\n",
    "import matplotlib.pyplot as plt\n",
    "import seaborn as sns\n",
    "import numpy as np"
   ]
  },
  {
   "cell_type": "code",
   "execution_count": 2,
   "metadata": {},
   "outputs": [],
   "source": [
    "# # create a connection to Postgres\n",
    "# conn = psycopg2.connect(database=\"postgres\", user='postgres', password='Shjais2014', host='127.0.0.1', port='5432')\n",
    "# conn.autocommit = True\n",
    "# cursor = conn.cursor()\n",
    "\n",
    "# # create the database in Postgres\n",
    "# create_database_sql = open('../sql/create_db.sql','r')\n",
    "# cursor.execute(create_database_sql.read())\n",
    "\n",
    "# #If no error print message\n",
    "# print(\"Database created successfully........\")\n",
    "\n",
    "# #Closing the connection and database\n",
    "# conn.close()\n",
    "# create_database_sql.close()"
   ]
  },
  {
   "cell_type": "code",
   "execution_count": 3,
   "metadata": {},
   "outputs": [
    {
     "output_type": "execute_result",
     "data": {
      "text/plain": [
       "   Unnamed: 0                                             Tweets\n",
       "0           0  Every Monday I open my Sling app to watch Raw ...\n",
       "1           1  happy monday y'all! | PS5 | !socials !discord ...\n",
       "2           2  RT @FOX5Vegas: NLVPD Officer Alexander Cuevas ...\n",
       "3           3  RT @CrabDay: 🦀 Monday, March 29th, 2021 🦀\\n\\n📸...\n",
       "4           4  @TMorri_12 @WashedUpJustin_ Tony get your fell..."
      ],
      "text/html": "<div>\n<style scoped>\n    .dataframe tbody tr th:only-of-type {\n        vertical-align: middle;\n    }\n\n    .dataframe tbody tr th {\n        vertical-align: top;\n    }\n\n    .dataframe thead th {\n        text-align: right;\n    }\n</style>\n<table border=\"1\" class=\"dataframe\">\n  <thead>\n    <tr style=\"text-align: right;\">\n      <th></th>\n      <th>Unnamed: 0</th>\n      <th>Tweets</th>\n    </tr>\n  </thead>\n  <tbody>\n    <tr>\n      <th>0</th>\n      <td>0</td>\n      <td>Every Monday I open my Sling app to watch Raw ...</td>\n    </tr>\n    <tr>\n      <th>1</th>\n      <td>1</td>\n      <td>happy monday y'all! | PS5 | !socials !discord ...</td>\n    </tr>\n    <tr>\n      <th>2</th>\n      <td>2</td>\n      <td>RT @FOX5Vegas: NLVPD Officer Alexander Cuevas ...</td>\n    </tr>\n    <tr>\n      <th>3</th>\n      <td>3</td>\n      <td>RT @CrabDay: 🦀 Monday, March 29th, 2021 🦀\\n\\n📸...</td>\n    </tr>\n    <tr>\n      <th>4</th>\n      <td>4</td>\n      <td>@TMorri_12 @WashedUpJustin_ Tony get your fell...</td>\n    </tr>\n  </tbody>\n</table>\n</div>"
     },
     "metadata": {},
     "execution_count": 3
    }
   ],
   "source": [
    "csv_file = \"../output_data/tweets.csv\"\n",
    "twitter_df = pd.read_csv(csv_file)\n",
    "twitter_df.head()"
   ]
  },
  {
   "cell_type": "code",
   "execution_count": 4,
   "metadata": {},
   "outputs": [
    {
     "output_type": "execute_result",
     "data": {
      "text/plain": [
       "   Unnamed: 0                                             tweets\n",
       "0           0  Every Monday I open my Sling app to watch Raw ...\n",
       "1           1  happy monday y'all! | PS5 | !socials !discord ...\n",
       "2           2  RT @FOX5Vegas: NLVPD Officer Alexander Cuevas ...\n",
       "3           3  RT @CrabDay: 🦀 Monday, March 29th, 2021 🦀\\n\\n📸...\n",
       "4           4  @TMorri_12 @WashedUpJustin_ Tony get your fell..."
      ],
      "text/html": "<div>\n<style scoped>\n    .dataframe tbody tr th:only-of-type {\n        vertical-align: middle;\n    }\n\n    .dataframe tbody tr th {\n        vertical-align: top;\n    }\n\n    .dataframe thead th {\n        text-align: right;\n    }\n</style>\n<table border=\"1\" class=\"dataframe\">\n  <thead>\n    <tr style=\"text-align: right;\">\n      <th></th>\n      <th>Unnamed: 0</th>\n      <th>tweets</th>\n    </tr>\n  </thead>\n  <tbody>\n    <tr>\n      <th>0</th>\n      <td>0</td>\n      <td>Every Monday I open my Sling app to watch Raw ...</td>\n    </tr>\n    <tr>\n      <th>1</th>\n      <td>1</td>\n      <td>happy monday y'all! | PS5 | !socials !discord ...</td>\n    </tr>\n    <tr>\n      <th>2</th>\n      <td>2</td>\n      <td>RT @FOX5Vegas: NLVPD Officer Alexander Cuevas ...</td>\n    </tr>\n    <tr>\n      <th>3</th>\n      <td>3</td>\n      <td>RT @CrabDay: 🦀 Monday, March 29th, 2021 🦀\\n\\n📸...</td>\n    </tr>\n    <tr>\n      <th>4</th>\n      <td>4</td>\n      <td>@TMorri_12 @WashedUpJustin_ Tony get your fell...</td>\n    </tr>\n  </tbody>\n</table>\n</div>"
     },
     "metadata": {},
     "execution_count": 4
    }
   ],
   "source": [
    "twitter_df.rename(columns = {'Tweets':'tweets'}, inplace = True) \n",
    "twitter_df.head()"
   ]
  },
  {
   "cell_type": "code",
   "execution_count": 5,
   "metadata": {},
   "outputs": [
    {
     "output_type": "execute_result",
     "data": {
      "text/plain": [
       "                                              tweets\n",
       "0  Every Monday I open my Sling app to watch Raw ...\n",
       "1  happy monday y'all! | PS5 | !socials !discord ...\n",
       "2  RT @FOX5Vegas: NLVPD Officer Alexander Cuevas ...\n",
       "3  RT @CrabDay: 🦀 Monday, March 29th, 2021 🦀\\n\\n📸...\n",
       "4  @TMorri_12 @WashedUpJustin_ Tony get your fell..."
      ],
      "text/html": "<div>\n<style scoped>\n    .dataframe tbody tr th:only-of-type {\n        vertical-align: middle;\n    }\n\n    .dataframe tbody tr th {\n        vertical-align: top;\n    }\n\n    .dataframe thead th {\n        text-align: right;\n    }\n</style>\n<table border=\"1\" class=\"dataframe\">\n  <thead>\n    <tr style=\"text-align: right;\">\n      <th></th>\n      <th>tweets</th>\n    </tr>\n  </thead>\n  <tbody>\n    <tr>\n      <th>0</th>\n      <td>Every Monday I open my Sling app to watch Raw ...</td>\n    </tr>\n    <tr>\n      <th>1</th>\n      <td>happy monday y'all! | PS5 | !socials !discord ...</td>\n    </tr>\n    <tr>\n      <th>2</th>\n      <td>RT @FOX5Vegas: NLVPD Officer Alexander Cuevas ...</td>\n    </tr>\n    <tr>\n      <th>3</th>\n      <td>RT @CrabDay: 🦀 Monday, March 29th, 2021 🦀\\n\\n📸...</td>\n    </tr>\n    <tr>\n      <th>4</th>\n      <td>@TMorri_12 @WashedUpJustin_ Tony get your fell...</td>\n    </tr>\n  </tbody>\n</table>\n</div>"
     },
     "metadata": {},
     "execution_count": 5
    }
   ],
   "source": [
    "# twitter_df = twitter_df.set_index(\"state\")\n",
    "# twitter_df.head()\n",
    "twitter_df = twitter_df.drop(columns=['Unnamed: 0'])\n",
    "twitter_df.head()"
   ]
  },
  {
   "cell_type": "code",
   "execution_count": 6,
   "metadata": {},
   "outputs": [
    {
     "output_type": "execute_result",
     "data": {
      "text/plain": [
       "                                              tweets\n",
       "0  Every Monday I open my Sling app to watch Raw ...\n",
       "1  happy monday y'all! | PS5 | !socials !discord ...\n",
       "2  RT @FOX5Vegas: NLVPD Officer Alexander Cuevas ...\n",
       "3  RT @CrabDay: 🦀 Monday, March 29th, 2021 🦀\\n\\n📸...\n",
       "4  @TMorri_12 @WashedUpJustin_ Tony get your fell..."
      ],
      "text/html": "<div>\n<style scoped>\n    .dataframe tbody tr th:only-of-type {\n        vertical-align: middle;\n    }\n\n    .dataframe tbody tr th {\n        vertical-align: top;\n    }\n\n    .dataframe thead th {\n        text-align: right;\n    }\n</style>\n<table border=\"1\" class=\"dataframe\">\n  <thead>\n    <tr style=\"text-align: right;\">\n      <th></th>\n      <th>tweets</th>\n    </tr>\n  </thead>\n  <tbody>\n    <tr>\n      <th>0</th>\n      <td>Every Monday I open my Sling app to watch Raw ...</td>\n    </tr>\n    <tr>\n      <th>1</th>\n      <td>happy monday y'all! | PS5 | !socials !discord ...</td>\n    </tr>\n    <tr>\n      <th>2</th>\n      <td>RT @FOX5Vegas: NLVPD Officer Alexander Cuevas ...</td>\n    </tr>\n    <tr>\n      <th>3</th>\n      <td>RT @CrabDay: 🦀 Monday, March 29th, 2021 🦀\\n\\n📸...</td>\n    </tr>\n    <tr>\n      <th>4</th>\n      <td>@TMorri_12 @WashedUpJustin_ Tony get your fell...</td>\n    </tr>\n  </tbody>\n</table>\n</div>"
     },
     "metadata": {},
     "execution_count": 6
    }
   ],
   "source": [
    "twitter_df = twitter_df.reindex()\n",
    "twitter_df.head()"
   ]
  },
  {
   "cell_type": "code",
   "execution_count": 7,
   "metadata": {},
   "outputs": [],
   "source": [
    "# create a connection to Postgres\n",
    "conn = psycopg2.connect(database=\"twitter_db\", user='postgres', password='Shjais2014', host='127.0.0.1', port='5432')\n",
    "conn.autocommit = True\n",
    "cursor = conn.cursor()"
   ]
  },
  {
   "cell_type": "code",
   "execution_count": 8,
   "metadata": {},
   "outputs": [
    {
     "output_type": "stream",
     "name": "stdout",
     "text": [
      "Database Schema Loaded Successfully (Tables Created)........\n"
     ]
    }
   ],
   "source": [
    "# run the schema for the database using the schema file created and the connection to Postgres\n",
    "schema_sql = open('../sql/schema.sql','r')\n",
    "cursor.execute(schema_sql.read())\n",
    "\n",
    "#If no error print message\n",
    "print(\"Database Schema Loaded Successfully (Tables Created)........\")\n",
    "\n",
    "# close the schema file\n",
    "schema_sql.close()"
   ]
  },
  {
   "cell_type": "code",
   "execution_count": 9,
   "metadata": {},
   "outputs": [],
   "source": [
    "#database connection\n",
    "connection_string =\"postgres:Shjais2014@localhost:5432/twitter_db\"\n",
    "engine = create_engine(f'postgresql://{connection_string}')"
   ]
  },
  {
   "cell_type": "code",
   "execution_count": 10,
   "metadata": {},
   "outputs": [
    {
     "output_type": "execute_result",
     "data": {
      "text/plain": [
       "['twitter_tweets']"
      ]
     },
     "metadata": {},
     "execution_count": 10
    }
   ],
   "source": [
    "#confirm tables\n",
    "engine.table_names()"
   ]
  },
  {
   "cell_type": "code",
   "execution_count": 11,
   "metadata": {},
   "outputs": [],
   "source": [
    "### Load DataFrames into database\n",
    "twitter_df.to_sql(name='twitter_tweets', con=engine, if_exists='append', index = True)"
   ]
  },
  {
   "cell_type": "code",
   "execution_count": 12,
   "metadata": {},
   "outputs": [],
   "source": [
    "select_sql = open('../sql/select_df.sql','r')\n",
    "twit_df = pd.read_sql_query(select_sql.read(), con=engine)\n",
    "\n",
    "#Close File after use\n",
    "select_sql.close()"
   ]
  },
  {
   "cell_type": "code",
   "execution_count": 13,
   "metadata": {},
   "outputs": [
    {
     "output_type": "execute_result",
     "data": {
      "text/plain": [
       "                                               tweets  index\n",
       "0   Every Monday I open my Sling app to watch Raw ...      0\n",
       "1   happy monday y'all! | PS5 | !socials !discord ...      1\n",
       "2   RT @FOX5Vegas: NLVPD Officer Alexander Cuevas ...      2\n",
       "3   RT @CrabDay: 🦀 Monday, March 29th, 2021 🦀\\n\\n📸...      3\n",
       "4   @TMorri_12 @WashedUpJustin_ Tony get your fell...      4\n",
       "5   RT @SweetTaleBooks: Have a wonderful Monday!\\n...      5\n",
       "6   RT @jilevin: 911 dispatcher testifies officers...      6\n",
       "7   RT @KBSWorldTV: [KPOP NEWS] BTS to Star in Spe...      7\n",
       "8   RT @foosgonewild: MONDAY MOTIVATION https://t....      8\n",
       "9   RT @WilliamYang120: Thousands of #Myanmar prot...      9\n",
       "10  RT @skzinbbl: [210330 0:41-42 i.n bubble]\\n\\n:...     10\n",
       "11  WILD NATION!! The time is coming! The Wenatche...     11\n",
       "12  It’s All About Relationship Series | Helping C...     12\n",
       "13  RT @wolftummy: happy Fat Mae Monday :P https:/...     13\n",
       "14  https://t.co/9iNbjXjAwp is LIVE with Rumor Mil...     14\n",
       "15  RT @SweetTaleBooks: 'Howdy, from the Heart': J...     15\n",
       "16  RT @yujujk: GRWM was there since 2017 and cand...     16\n",
       "17  Get you a friend that invited you to Bingo on ...     17\n",
       "18  Nothing like being told on Monday afternoon th...     18\n",
       "19  RT @WeatherNation: **BREAKING NEWS** The #Keys...     19"
      ],
      "text/html": "<div>\n<style scoped>\n    .dataframe tbody tr th:only-of-type {\n        vertical-align: middle;\n    }\n\n    .dataframe tbody tr th {\n        vertical-align: top;\n    }\n\n    .dataframe thead th {\n        text-align: right;\n    }\n</style>\n<table border=\"1\" class=\"dataframe\">\n  <thead>\n    <tr style=\"text-align: right;\">\n      <th></th>\n      <th>tweets</th>\n      <th>index</th>\n    </tr>\n  </thead>\n  <tbody>\n    <tr>\n      <th>0</th>\n      <td>Every Monday I open my Sling app to watch Raw ...</td>\n      <td>0</td>\n    </tr>\n    <tr>\n      <th>1</th>\n      <td>happy monday y'all! | PS5 | !socials !discord ...</td>\n      <td>1</td>\n    </tr>\n    <tr>\n      <th>2</th>\n      <td>RT @FOX5Vegas: NLVPD Officer Alexander Cuevas ...</td>\n      <td>2</td>\n    </tr>\n    <tr>\n      <th>3</th>\n      <td>RT @CrabDay: 🦀 Monday, March 29th, 2021 🦀\\n\\n📸...</td>\n      <td>3</td>\n    </tr>\n    <tr>\n      <th>4</th>\n      <td>@TMorri_12 @WashedUpJustin_ Tony get your fell...</td>\n      <td>4</td>\n    </tr>\n    <tr>\n      <th>5</th>\n      <td>RT @SweetTaleBooks: Have a wonderful Monday!\\n...</td>\n      <td>5</td>\n    </tr>\n    <tr>\n      <th>6</th>\n      <td>RT @jilevin: 911 dispatcher testifies officers...</td>\n      <td>6</td>\n    </tr>\n    <tr>\n      <th>7</th>\n      <td>RT @KBSWorldTV: [KPOP NEWS] BTS to Star in Spe...</td>\n      <td>7</td>\n    </tr>\n    <tr>\n      <th>8</th>\n      <td>RT @foosgonewild: MONDAY MOTIVATION https://t....</td>\n      <td>8</td>\n    </tr>\n    <tr>\n      <th>9</th>\n      <td>RT @WilliamYang120: Thousands of #Myanmar prot...</td>\n      <td>9</td>\n    </tr>\n    <tr>\n      <th>10</th>\n      <td>RT @skzinbbl: [210330 0:41-42 i.n bubble]\\n\\n:...</td>\n      <td>10</td>\n    </tr>\n    <tr>\n      <th>11</th>\n      <td>WILD NATION!! The time is coming! The Wenatche...</td>\n      <td>11</td>\n    </tr>\n    <tr>\n      <th>12</th>\n      <td>It’s All About Relationship Series | Helping C...</td>\n      <td>12</td>\n    </tr>\n    <tr>\n      <th>13</th>\n      <td>RT @wolftummy: happy Fat Mae Monday :P https:/...</td>\n      <td>13</td>\n    </tr>\n    <tr>\n      <th>14</th>\n      <td>https://t.co/9iNbjXjAwp is LIVE with Rumor Mil...</td>\n      <td>14</td>\n    </tr>\n    <tr>\n      <th>15</th>\n      <td>RT @SweetTaleBooks: 'Howdy, from the Heart': J...</td>\n      <td>15</td>\n    </tr>\n    <tr>\n      <th>16</th>\n      <td>RT @yujujk: GRWM was there since 2017 and cand...</td>\n      <td>16</td>\n    </tr>\n    <tr>\n      <th>17</th>\n      <td>Get you a friend that invited you to Bingo on ...</td>\n      <td>17</td>\n    </tr>\n    <tr>\n      <th>18</th>\n      <td>Nothing like being told on Monday afternoon th...</td>\n      <td>18</td>\n    </tr>\n    <tr>\n      <th>19</th>\n      <td>RT @WeatherNation: **BREAKING NEWS** The #Keys...</td>\n      <td>19</td>\n    </tr>\n  </tbody>\n</table>\n</div>"
     },
     "metadata": {},
     "execution_count": 13
    }
   ],
   "source": [
    "twit_df"
   ]
  },
  {
   "cell_type": "code",
   "execution_count": 14,
   "metadata": {},
   "outputs": [],
   "source": [
    "conn.close()"
   ]
  },
  {
   "cell_type": "code",
   "execution_count": null,
   "metadata": {},
   "outputs": [],
   "source": []
  }
 ]
}