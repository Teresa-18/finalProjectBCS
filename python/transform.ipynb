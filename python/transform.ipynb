{
 "metadata": {
  "language_info": {
   "codemirror_mode": {
    "name": "ipython",
    "version": 3
   },
   "file_extension": ".py",
   "mimetype": "text/x-python",
   "name": "python",
   "nbconvert_exporter": "python",
   "pygments_lexer": "ipython3",
   "version": "3.8.3"
  },
  "orig_nbformat": 2,
  "kernelspec": {
   "name": "python383jvsc74a57bd044f87d93d22815aca40ff46df2a68f0681cdcfc4aee774b27fdbe7d7cab95300",
   "display_name": "Python 3.8.3 64-bit ('base': conda)"
  }
 },
 "nbformat": 4,
 "nbformat_minor": 2,
 "cells": [
  {
   "cell_type": "code",
   "execution_count": 1,
   "metadata": {},
   "outputs": [],
   "source": [
    "import pandas as pd\n",
    "import pymongo\n",
    "import psycopg2\n",
    "from sqlalchemy import create_engine\n",
    "from sqlalchemy import text\n",
    "import matplotlib\n",
    "import matplotlib.pyplot as plt\n",
    "import seaborn as sns\n",
    "import numpy as np"
   ]
  },
  {
   "cell_type": "code",
   "execution_count": 3,
   "metadata": {},
   "outputs": [
    {
     "output_type": "execute_result",
     "data": {
      "text/plain": [
       "   Unnamed: 0                                             Tweets\n",
       "0           0  Every Monday I open my Sling app to watch Raw ...\n",
       "1           1  happy monday y'all! | PS5 | !socials !discord ...\n",
       "2           2  RT @FOX5Vegas: NLVPD Officer Alexander Cuevas ...\n",
       "3           3  RT @CrabDay: 🦀 Monday, March 29th, 2021 🦀\\n\\n📸...\n",
       "4           4  @TMorri_12 @WashedUpJustin_ Tony get your fell..."
      ],
      "text/html": "<div>\n<style scoped>\n    .dataframe tbody tr th:only-of-type {\n        vertical-align: middle;\n    }\n\n    .dataframe tbody tr th {\n        vertical-align: top;\n    }\n\n    .dataframe thead th {\n        text-align: right;\n    }\n</style>\n<table border=\"1\" class=\"dataframe\">\n  <thead>\n    <tr style=\"text-align: right;\">\n      <th></th>\n      <th>Unnamed: 0</th>\n      <th>Tweets</th>\n    </tr>\n  </thead>\n  <tbody>\n    <tr>\n      <th>0</th>\n      <td>0</td>\n      <td>Every Monday I open my Sling app to watch Raw ...</td>\n    </tr>\n    <tr>\n      <th>1</th>\n      <td>1</td>\n      <td>happy monday y'all! | PS5 | !socials !discord ...</td>\n    </tr>\n    <tr>\n      <th>2</th>\n      <td>2</td>\n      <td>RT @FOX5Vegas: NLVPD Officer Alexander Cuevas ...</td>\n    </tr>\n    <tr>\n      <th>3</th>\n      <td>3</td>\n      <td>RT @CrabDay: 🦀 Monday, March 29th, 2021 🦀\\n\\n📸...</td>\n    </tr>\n    <tr>\n      <th>4</th>\n      <td>4</td>\n      <td>@TMorri_12 @WashedUpJustin_ Tony get your fell...</td>\n    </tr>\n  </tbody>\n</table>\n</div>"
     },
     "metadata": {},
     "execution_count": 3
    }
   ],
   "source": [
    "# read in csv file from output_data folder\n",
    "csv_file = \"../output_data/monday_tweets.csv\"\n",
    "monday_df = pd.read_csv(csv_file)\n",
    "monday_df.head()"
   ]
  },
  {
   "cell_type": "code",
   "execution_count": 4,
   "metadata": {},
   "outputs": [
    {
     "output_type": "execute_result",
     "data": {
      "text/plain": [
       "   Unnamed: 0                                      monday_tweets\n",
       "0           0  Every Monday I open my Sling app to watch Raw ...\n",
       "1           1  happy monday y'all! | PS5 | !socials !discord ...\n",
       "2           2  RT @FOX5Vegas: NLVPD Officer Alexander Cuevas ...\n",
       "3           3  RT @CrabDay: 🦀 Monday, March 29th, 2021 🦀\\n\\n📸...\n",
       "4           4  @TMorri_12 @WashedUpJustin_ Tony get your fell..."
      ],
      "text/html": "<div>\n<style scoped>\n    .dataframe tbody tr th:only-of-type {\n        vertical-align: middle;\n    }\n\n    .dataframe tbody tr th {\n        vertical-align: top;\n    }\n\n    .dataframe thead th {\n        text-align: right;\n    }\n</style>\n<table border=\"1\" class=\"dataframe\">\n  <thead>\n    <tr style=\"text-align: right;\">\n      <th></th>\n      <th>Unnamed: 0</th>\n      <th>monday_tweets</th>\n    </tr>\n  </thead>\n  <tbody>\n    <tr>\n      <th>0</th>\n      <td>0</td>\n      <td>Every Monday I open my Sling app to watch Raw ...</td>\n    </tr>\n    <tr>\n      <th>1</th>\n      <td>1</td>\n      <td>happy monday y'all! | PS5 | !socials !discord ...</td>\n    </tr>\n    <tr>\n      <th>2</th>\n      <td>2</td>\n      <td>RT @FOX5Vegas: NLVPD Officer Alexander Cuevas ...</td>\n    </tr>\n    <tr>\n      <th>3</th>\n      <td>3</td>\n      <td>RT @CrabDay: 🦀 Monday, March 29th, 2021 🦀\\n\\n📸...</td>\n    </tr>\n    <tr>\n      <th>4</th>\n      <td>4</td>\n      <td>@TMorri_12 @WashedUpJustin_ Tony get your fell...</td>\n    </tr>\n  </tbody>\n</table>\n</div>"
     },
     "metadata": {},
     "execution_count": 4
    }
   ],
   "source": [
    "# rename column from Uppercase to Lowercase\n",
    "monday_df.rename(columns = {'Tweets':'monday_tweets'}, inplace = True) \n",
    "monday_df.head()"
   ]
  },
  {
   "cell_type": "code",
   "execution_count": 5,
   "metadata": {},
   "outputs": [
    {
     "output_type": "execute_result",
     "data": {
      "text/plain": [
       "                                       monday_tweets\n",
       "0  Every Monday I open my Sling app to watch Raw ...\n",
       "1  happy monday y'all! | PS5 | !socials !discord ...\n",
       "2  RT @FOX5Vegas: NLVPD Officer Alexander Cuevas ...\n",
       "3  RT @CrabDay: 🦀 Monday, March 29th, 2021 🦀\\n\\n📸...\n",
       "4  @TMorri_12 @WashedUpJustin_ Tony get your fell..."
      ],
      "text/html": "<div>\n<style scoped>\n    .dataframe tbody tr th:only-of-type {\n        vertical-align: middle;\n    }\n\n    .dataframe tbody tr th {\n        vertical-align: top;\n    }\n\n    .dataframe thead th {\n        text-align: right;\n    }\n</style>\n<table border=\"1\" class=\"dataframe\">\n  <thead>\n    <tr style=\"text-align: right;\">\n      <th></th>\n      <th>monday_tweets</th>\n    </tr>\n  </thead>\n  <tbody>\n    <tr>\n      <th>0</th>\n      <td>Every Monday I open my Sling app to watch Raw ...</td>\n    </tr>\n    <tr>\n      <th>1</th>\n      <td>happy monday y'all! | PS5 | !socials !discord ...</td>\n    </tr>\n    <tr>\n      <th>2</th>\n      <td>RT @FOX5Vegas: NLVPD Officer Alexander Cuevas ...</td>\n    </tr>\n    <tr>\n      <th>3</th>\n      <td>RT @CrabDay: 🦀 Monday, March 29th, 2021 🦀\\n\\n📸...</td>\n    </tr>\n    <tr>\n      <th>4</th>\n      <td>@TMorri_12 @WashedUpJustin_ Tony get your fell...</td>\n    </tr>\n  </tbody>\n</table>\n</div>"
     },
     "metadata": {},
     "execution_count": 5
    }
   ],
   "source": [
    "# drop the Unnamed column in the df\n",
    "monday_df = monday_df.drop(columns=['Unnamed: 0'])\n",
    "monday_df.head()"
   ]
  },
  {
   "cell_type": "code",
   "execution_count": 7,
   "metadata": {},
   "outputs": [
    {
     "output_type": "execute_result",
     "data": {
      "text/plain": [
       "   Unnamed: 0                                             Tweets\n",
       "0           0  RT @AngelaC51335397: Happy Jelly belly Friday ...\n",
       "1           1  RT @Timodc: My take on Georgia. The entire exi...\n",
       "2           2  RT @fakeshoredrive: Happy GOOD Friday\\n\\nHere’...\n",
       "3           3  RT @SB19Official: 🎉#SB19WhatMV7Million\\n\\nBig ...\n",
       "4           4  RT @StarrRinko: @Jan4Jesus45\\n@digi11111\\n@Bus..."
      ],
      "text/html": "<div>\n<style scoped>\n    .dataframe tbody tr th:only-of-type {\n        vertical-align: middle;\n    }\n\n    .dataframe tbody tr th {\n        vertical-align: top;\n    }\n\n    .dataframe thead th {\n        text-align: right;\n    }\n</style>\n<table border=\"1\" class=\"dataframe\">\n  <thead>\n    <tr style=\"text-align: right;\">\n      <th></th>\n      <th>Unnamed: 0</th>\n      <th>Tweets</th>\n    </tr>\n  </thead>\n  <tbody>\n    <tr>\n      <th>0</th>\n      <td>0</td>\n      <td>RT @AngelaC51335397: Happy Jelly belly Friday ...</td>\n    </tr>\n    <tr>\n      <th>1</th>\n      <td>1</td>\n      <td>RT @Timodc: My take on Georgia. The entire exi...</td>\n    </tr>\n    <tr>\n      <th>2</th>\n      <td>2</td>\n      <td>RT @fakeshoredrive: Happy GOOD Friday\\n\\nHere’...</td>\n    </tr>\n    <tr>\n      <th>3</th>\n      <td>3</td>\n      <td>RT @SB19Official: 🎉#SB19WhatMV7Million\\n\\nBig ...</td>\n    </tr>\n    <tr>\n      <th>4</th>\n      <td>4</td>\n      <td>RT @StarrRinko: @Jan4Jesus45\\n@digi11111\\n@Bus...</td>\n    </tr>\n  </tbody>\n</table>\n</div>"
     },
     "metadata": {},
     "execution_count": 7
    }
   ],
   "source": [
    "# read in csv file from output_data folder\n",
    "csv_file = \"../output_data/friday_tweets.csv\"\n",
    "friday_df = pd.read_csv(csv_file)\n",
    "friday_df.head()"
   ]
  },
  {
   "cell_type": "code",
   "execution_count": 8,
   "metadata": {},
   "outputs": [
    {
     "output_type": "execute_result",
     "data": {
      "text/plain": [
       "   Unnamed: 0                                      friday_tweets\n",
       "0           0  RT @AngelaC51335397: Happy Jelly belly Friday ...\n",
       "1           1  RT @Timodc: My take on Georgia. The entire exi...\n",
       "2           2  RT @fakeshoredrive: Happy GOOD Friday\\n\\nHere’...\n",
       "3           3  RT @SB19Official: 🎉#SB19WhatMV7Million\\n\\nBig ...\n",
       "4           4  RT @StarrRinko: @Jan4Jesus45\\n@digi11111\\n@Bus..."
      ],
      "text/html": "<div>\n<style scoped>\n    .dataframe tbody tr th:only-of-type {\n        vertical-align: middle;\n    }\n\n    .dataframe tbody tr th {\n        vertical-align: top;\n    }\n\n    .dataframe thead th {\n        text-align: right;\n    }\n</style>\n<table border=\"1\" class=\"dataframe\">\n  <thead>\n    <tr style=\"text-align: right;\">\n      <th></th>\n      <th>Unnamed: 0</th>\n      <th>friday_tweets</th>\n    </tr>\n  </thead>\n  <tbody>\n    <tr>\n      <th>0</th>\n      <td>0</td>\n      <td>RT @AngelaC51335397: Happy Jelly belly Friday ...</td>\n    </tr>\n    <tr>\n      <th>1</th>\n      <td>1</td>\n      <td>RT @Timodc: My take on Georgia. The entire exi...</td>\n    </tr>\n    <tr>\n      <th>2</th>\n      <td>2</td>\n      <td>RT @fakeshoredrive: Happy GOOD Friday\\n\\nHere’...</td>\n    </tr>\n    <tr>\n      <th>3</th>\n      <td>3</td>\n      <td>RT @SB19Official: 🎉#SB19WhatMV7Million\\n\\nBig ...</td>\n    </tr>\n    <tr>\n      <th>4</th>\n      <td>4</td>\n      <td>RT @StarrRinko: @Jan4Jesus45\\n@digi11111\\n@Bus...</td>\n    </tr>\n  </tbody>\n</table>\n</div>"
     },
     "metadata": {},
     "execution_count": 8
    }
   ],
   "source": [
    "# rename column from Uppercase to Lowercase\n",
    "friday_df.rename(columns = {'Tweets':'friday_tweets'}, inplace = True) \n",
    "friday_df.head()"
   ]
  },
  {
   "cell_type": "code",
   "execution_count": 9,
   "metadata": {},
   "outputs": [
    {
     "output_type": "execute_result",
     "data": {
      "text/plain": [
       "                                       friday_tweets\n",
       "0  RT @AngelaC51335397: Happy Jelly belly Friday ...\n",
       "1  RT @Timodc: My take on Georgia. The entire exi...\n",
       "2  RT @fakeshoredrive: Happy GOOD Friday\\n\\nHere’...\n",
       "3  RT @SB19Official: 🎉#SB19WhatMV7Million\\n\\nBig ...\n",
       "4  RT @StarrRinko: @Jan4Jesus45\\n@digi11111\\n@Bus..."
      ],
      "text/html": "<div>\n<style scoped>\n    .dataframe tbody tr th:only-of-type {\n        vertical-align: middle;\n    }\n\n    .dataframe tbody tr th {\n        vertical-align: top;\n    }\n\n    .dataframe thead th {\n        text-align: right;\n    }\n</style>\n<table border=\"1\" class=\"dataframe\">\n  <thead>\n    <tr style=\"text-align: right;\">\n      <th></th>\n      <th>friday_tweets</th>\n    </tr>\n  </thead>\n  <tbody>\n    <tr>\n      <th>0</th>\n      <td>RT @AngelaC51335397: Happy Jelly belly Friday ...</td>\n    </tr>\n    <tr>\n      <th>1</th>\n      <td>RT @Timodc: My take on Georgia. The entire exi...</td>\n    </tr>\n    <tr>\n      <th>2</th>\n      <td>RT @fakeshoredrive: Happy GOOD Friday\\n\\nHere’...</td>\n    </tr>\n    <tr>\n      <th>3</th>\n      <td>RT @SB19Official: 🎉#SB19WhatMV7Million\\n\\nBig ...</td>\n    </tr>\n    <tr>\n      <th>4</th>\n      <td>RT @StarrRinko: @Jan4Jesus45\\n@digi11111\\n@Bus...</td>\n    </tr>\n  </tbody>\n</table>\n</div>"
     },
     "metadata": {},
     "execution_count": 9
    }
   ],
   "source": [
    "# drop the Unnamed column in the df\n",
    "friday_df = friday_df.drop(columns=['Unnamed: 0'])\n",
    "friday_df.head()"
   ]
  },
  {
   "cell_type": "code",
   "execution_count": 11,
   "metadata": {},
   "outputs": [
    {
     "output_type": "execute_result",
     "data": {
      "text/plain": [
       "   Unnamed: 0                                             Tweets\n",
       "0           0  RT @JimHalpert__: no April Fool’s prank will e...\n",
       "1           1  RT @gangbadoy: I need information on HOME CARE...\n",
       "2           2             @studiowalters Is this an April fools?\n",
       "3           3  RT @WORLDMUSICAWARD: #SuperJunior’s #Kyuhyun S...\n",
       "4           4  RT @DistNightPal: Entries for Distance Night 2..."
      ],
      "text/html": "<div>\n<style scoped>\n    .dataframe tbody tr th:only-of-type {\n        vertical-align: middle;\n    }\n\n    .dataframe tbody tr th {\n        vertical-align: top;\n    }\n\n    .dataframe thead th {\n        text-align: right;\n    }\n</style>\n<table border=\"1\" class=\"dataframe\">\n  <thead>\n    <tr style=\"text-align: right;\">\n      <th></th>\n      <th>Unnamed: 0</th>\n      <th>Tweets</th>\n    </tr>\n  </thead>\n  <tbody>\n    <tr>\n      <th>0</th>\n      <td>0</td>\n      <td>RT @JimHalpert__: no April Fool’s prank will e...</td>\n    </tr>\n    <tr>\n      <th>1</th>\n      <td>1</td>\n      <td>RT @gangbadoy: I need information on HOME CARE...</td>\n    </tr>\n    <tr>\n      <th>2</th>\n      <td>2</td>\n      <td>@studiowalters Is this an April fools?</td>\n    </tr>\n    <tr>\n      <th>3</th>\n      <td>3</td>\n      <td>RT @WORLDMUSICAWARD: #SuperJunior’s #Kyuhyun S...</td>\n    </tr>\n    <tr>\n      <th>4</th>\n      <td>4</td>\n      <td>RT @DistNightPal: Entries for Distance Night 2...</td>\n    </tr>\n  </tbody>\n</table>\n</div>"
     },
     "metadata": {},
     "execution_count": 11
    }
   ],
   "source": [
    "# read in csv file from output_data folder\n",
    "csv_file = \"../output_data/april_tweets.csv\"\n",
    "april_df = pd.read_csv(csv_file)\n",
    "april_df.head()"
   ]
  },
  {
   "cell_type": "code",
   "execution_count": 12,
   "metadata": {},
   "outputs": [
    {
     "output_type": "execute_result",
     "data": {
      "text/plain": [
       "   Unnamed: 0                                       april_tweets\n",
       "0           0  RT @JimHalpert__: no April Fool’s prank will e...\n",
       "1           1  RT @gangbadoy: I need information on HOME CARE...\n",
       "2           2             @studiowalters Is this an April fools?\n",
       "3           3  RT @WORLDMUSICAWARD: #SuperJunior’s #Kyuhyun S...\n",
       "4           4  RT @DistNightPal: Entries for Distance Night 2..."
      ],
      "text/html": "<div>\n<style scoped>\n    .dataframe tbody tr th:only-of-type {\n        vertical-align: middle;\n    }\n\n    .dataframe tbody tr th {\n        vertical-align: top;\n    }\n\n    .dataframe thead th {\n        text-align: right;\n    }\n</style>\n<table border=\"1\" class=\"dataframe\">\n  <thead>\n    <tr style=\"text-align: right;\">\n      <th></th>\n      <th>Unnamed: 0</th>\n      <th>april_tweets</th>\n    </tr>\n  </thead>\n  <tbody>\n    <tr>\n      <th>0</th>\n      <td>0</td>\n      <td>RT @JimHalpert__: no April Fool’s prank will e...</td>\n    </tr>\n    <tr>\n      <th>1</th>\n      <td>1</td>\n      <td>RT @gangbadoy: I need information on HOME CARE...</td>\n    </tr>\n    <tr>\n      <th>2</th>\n      <td>2</td>\n      <td>@studiowalters Is this an April fools?</td>\n    </tr>\n    <tr>\n      <th>3</th>\n      <td>3</td>\n      <td>RT @WORLDMUSICAWARD: #SuperJunior’s #Kyuhyun S...</td>\n    </tr>\n    <tr>\n      <th>4</th>\n      <td>4</td>\n      <td>RT @DistNightPal: Entries for Distance Night 2...</td>\n    </tr>\n  </tbody>\n</table>\n</div>"
     },
     "metadata": {},
     "execution_count": 12
    }
   ],
   "source": [
    "# rename column from Uppercase to Lowercase\n",
    "april_df.rename(columns = {'Tweets':'april_tweets'}, inplace = True) \n",
    "april_df.head()"
   ]
  },
  {
   "cell_type": "code",
   "execution_count": 13,
   "metadata": {},
   "outputs": [
    {
     "output_type": "execute_result",
     "data": {
      "text/plain": [
       "                                        april_tweets\n",
       "0  RT @JimHalpert__: no April Fool’s prank will e...\n",
       "1  RT @gangbadoy: I need information on HOME CARE...\n",
       "2             @studiowalters Is this an April fools?\n",
       "3  RT @WORLDMUSICAWARD: #SuperJunior’s #Kyuhyun S...\n",
       "4  RT @DistNightPal: Entries for Distance Night 2..."
      ],
      "text/html": "<div>\n<style scoped>\n    .dataframe tbody tr th:only-of-type {\n        vertical-align: middle;\n    }\n\n    .dataframe tbody tr th {\n        vertical-align: top;\n    }\n\n    .dataframe thead th {\n        text-align: right;\n    }\n</style>\n<table border=\"1\" class=\"dataframe\">\n  <thead>\n    <tr style=\"text-align: right;\">\n      <th></th>\n      <th>april_tweets</th>\n    </tr>\n  </thead>\n  <tbody>\n    <tr>\n      <th>0</th>\n      <td>RT @JimHalpert__: no April Fool’s prank will e...</td>\n    </tr>\n    <tr>\n      <th>1</th>\n      <td>RT @gangbadoy: I need information on HOME CARE...</td>\n    </tr>\n    <tr>\n      <th>2</th>\n      <td>@studiowalters Is this an April fools?</td>\n    </tr>\n    <tr>\n      <th>3</th>\n      <td>RT @WORLDMUSICAWARD: #SuperJunior’s #Kyuhyun S...</td>\n    </tr>\n    <tr>\n      <th>4</th>\n      <td>RT @DistNightPal: Entries for Distance Night 2...</td>\n    </tr>\n  </tbody>\n</table>\n</div>"
     },
     "metadata": {},
     "execution_count": 13
    }
   ],
   "source": [
    "# drop the Unnamed column in the df\n",
    "april_df = april_df.drop(columns=['Unnamed: 0'])\n",
    "april_df.head()"
   ]
  },
  {
   "source": [
    "first_df = pd.DataFrame(monday_df['monday_tweets'])\n",
    "second_df = pd.DataFrame(friday_df['friday_tweets'])\n",
    "third_df = pd.DataFrame(april_df['april_tweets'])"
   ],
   "cell_type": "code",
   "metadata": {},
   "execution_count": 16,
   "outputs": []
  },
  {
   "cell_type": "code",
   "execution_count": 17,
   "metadata": {},
   "outputs": [],
   "source": [
    "frames = [first_df,second_df,third_df]"
   ]
  },
  {
   "cell_type": "code",
   "execution_count": 18,
   "metadata": {},
   "outputs": [],
   "source": [
    "twit_df = pd.concat(frames)"
   ]
  },
  {
   "cell_type": "code",
   "execution_count": 21,
   "metadata": {},
   "outputs": [
    {
     "output_type": "stream",
     "name": "stdout",
     "text": [
      "                                         monday_tweets friday_tweets  \\\n0    Every Monday I open my Sling app to watch Raw ...           NaN   \n1    happy monday y'all! | PS5 | !socials !discord ...           NaN   \n2    RT @FOX5Vegas: NLVPD Officer Alexander Cuevas ...           NaN   \n3    RT @CrabDay: 🦀 Monday, March 29th, 2021 🦀\\n\\n📸...           NaN   \n4    @TMorri_12 @WashedUpJustin_ Tony get your fell...           NaN   \n..                                                 ...           ...   \n445                                                NaN           NaN   \n446                                                NaN           NaN   \n447                                                NaN           NaN   \n448                                                NaN           NaN   \n449                                                NaN           NaN   \n\n                                          april_tweets  \n0                                                  NaN  \n1                                                  NaN  \n2                                                  NaN  \n3                                                  NaN  \n4                                                  NaN  \n..                                                 ...  \n445  RT @ArfanKHXN: I really ain’t see no April foo...  \n446  Well turns out the 8 timed 800s my trainer had...  \n447  RT @TerriIrwin: Beautiful baby Grace, first cr...  \n448  RT @dog_feelings: i wasn’t a good dog today\\n\\...  \n449  RT @rorofosho_: @Dodgers It’s April’s Fools Da...  \n\n[1350 rows x 3 columns]\n"
     ]
    }
   ],
   "source": [
    "print(twit_df)\n",
    "output_file = \"../output_data/tweets.csv\"\n",
    "twit_df.to_csv(output_file)\n"
   ]
  },
  {
   "cell_type": "code",
   "execution_count": null,
   "metadata": {},
   "outputs": [],
   "source": []
  },
  {
   "cell_type": "code",
   "execution_count": null,
   "metadata": {},
   "outputs": [],
   "source": []
  },
  {
   "cell_type": "code",
   "execution_count": null,
   "metadata": {},
   "outputs": [],
   "source": []
  },
  {
   "cell_type": "code",
   "execution_count": null,
   "metadata": {},
   "outputs": [],
   "source": []
  },
  {
   "cell_type": "code",
   "execution_count": null,
   "metadata": {},
   "outputs": [],
   "source": []
  },
  {
   "cell_type": "code",
   "execution_count": null,
   "metadata": {},
   "outputs": [],
   "source": []
  },
  {
   "cell_type": "code",
   "execution_count": null,
   "metadata": {},
   "outputs": [],
   "source": []
  },
  {
   "cell_type": "code",
   "execution_count": null,
   "metadata": {},
   "outputs": [],
   "source": []
  },
  {
   "cell_type": "code",
   "execution_count": null,
   "metadata": {},
   "outputs": [],
   "source": []
  },
  {
   "cell_type": "code",
   "execution_count": null,
   "metadata": {},
   "outputs": [],
   "source": []
  }
 ]
}